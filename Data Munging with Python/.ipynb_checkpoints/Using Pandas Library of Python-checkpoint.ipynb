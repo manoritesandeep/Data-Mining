{
 "cells": [
  {
   "cell_type": "markdown",
   "id": "83066667",
   "metadata": {},
   "source": [
    "# Using Pandas Library of Python\n",
    "Pandas Library\n",
    "\n",
    "It is a Python library built on top of NumPy. It is thus useful for working with matrices or arrays.\n",
    "Why Pandas Library?\n",
    "\n",
    "It has several use cases. Some are listed below -\n",
    "\n",
    "1. Data Cleaning\n",
    "2. Data Preparation\n",
    "3. Data Analysis\n",
    "4. Data Visualization\n",
    "5. Data Mining/Machine Learning\n",
    "\n",
    "Basics of Pandas Library\n",
    "\n",
    "1. Index - Its a unique row or column identifier. eg. [] or .ix indexer\n",
    "2. DataFrame - Its an object like excel table consisting of rows and columns\n",
    "3. Operators - They represent airthmatic operators like <>,<,==,=,!=,etc.\n",
    "\n"
   ]
  },
  {
   "cell_type": "markdown",
   "id": "b182c81f",
   "metadata": {},
   "source": [
    "#Filtering and Data selection"
   ]
  },
  {
   "cell_type": "code",
   "execution_count": 1,
   "id": "3f0df92e",
   "metadata": {},
   "outputs": [],
   "source": [
    "# Import packages\n",
    "import numpy as np\n",
    "import pandas as pd\n",
    "\n",
    "# In Pandas, arrays and matrices are referred as Series and DataFrame\n",
    "from pandas import Series, DataFrame"
   ]
  },
  {
   "cell_type": "code",
   "execution_count": 2,
   "id": "bfc10f23",
   "metadata": {},
   "outputs": [
    {
     "data": {
      "text/plain": [
       "0    0\n",
       "1    1\n",
       "2    2\n",
       "3    3\n",
       "dtype: int32"
      ]
     },
     "execution_count": 2,
     "metadata": {},
     "output_type": "execute_result"
    }
   ],
   "source": [
    "# Now we create an array or basically a series object and use series() constructor \n",
    "# Inside constructor we create a series using numpy's arange function as below\n",
    "Series_Object = Series(np.arange(4))\n",
    "Series_Object # Print the contents of the array"
   ]
  },
  {
   "cell_type": "code",
   "execution_count": 3,
   "id": "4eacd9d1",
   "metadata": {},
   "outputs": [
    {
     "data": {
      "text/plain": [
       "row1    0\n",
       "row2    1\n",
       "row3    2\n",
       "row4    3\n",
       "dtype: int32"
      ]
     },
     "execution_count": 3,
     "metadata": {},
     "output_type": "execute_result"
    }
   ],
   "source": [
    "# Lets try to modify the object and add index\n",
    "Series_Object = Series(np.arange(4), index = ['row1','row2','row3','row4'])\n",
    "Series_Object"
   ]
  },
  {
   "cell_type": "code",
   "execution_count": 4,
   "id": "3b5c994b",
   "metadata": {},
   "outputs": [
    {
     "data": {
      "text/plain": [
       "2"
      ]
     },
     "execution_count": 4,
     "metadata": {},
     "output_type": "execute_result"
    }
   ],
   "source": [
    "# Retrieve the contents of row3\n",
    "# here we use row3 index\n",
    "Series_Object['row3']\n"
   ]
  },
  {
   "cell_type": "code",
   "execution_count": 5,
   "id": "ddbeb5ef",
   "metadata": {},
   "outputs": [
    {
     "data": {
      "text/plain": [
       "2"
      ]
     },
     "execution_count": 5,
     "metadata": {},
     "output_type": "execute_result"
    }
   ],
   "source": [
    "# Retrieving the contents of row3 but using integer index\n",
    "Series_Object[2]"
   ]
  },
  {
   "cell_type": "code",
   "execution_count": 6,
   "id": "9d1a4381",
   "metadata": {},
   "outputs": [],
   "source": [
    "# Special Indexer of Pandas"
   ]
  },
  {
   "cell_type": "code",
   "execution_count": 7,
   "id": "2f476ebe",
   "metadata": {},
   "outputs": [
    {
     "data": {
      "text/html": [
       "<div>\n",
       "<style scoped>\n",
       "    .dataframe tbody tr th:only-of-type {\n",
       "        vertical-align: middle;\n",
       "    }\n",
       "\n",
       "    .dataframe tbody tr th {\n",
       "        vertical-align: top;\n",
       "    }\n",
       "\n",
       "    .dataframe thead th {\n",
       "        text-align: right;\n",
       "    }\n",
       "</style>\n",
       "<table border=\"1\" class=\"dataframe\">\n",
       "  <thead>\n",
       "    <tr style=\"text-align: right;\">\n",
       "      <th></th>\n",
       "      <th>Col1</th>\n",
       "      <th>Col2</th>\n",
       "      <th>Col3</th>\n",
       "      <th>Col4</th>\n",
       "      <th>Col5</th>\n",
       "      <th>Col6</th>\n",
       "    </tr>\n",
       "  </thead>\n",
       "  <tbody>\n",
       "    <tr>\n",
       "      <th>row1</th>\n",
       "      <td>0.967030</td>\n",
       "      <td>0.547232</td>\n",
       "      <td>0.972684</td>\n",
       "      <td>0.714816</td>\n",
       "      <td>0.697729</td>\n",
       "      <td>0.216089</td>\n",
       "    </tr>\n",
       "    <tr>\n",
       "      <th>row2</th>\n",
       "      <td>0.976274</td>\n",
       "      <td>0.006230</td>\n",
       "      <td>0.252982</td>\n",
       "      <td>0.434792</td>\n",
       "      <td>0.779383</td>\n",
       "      <td>0.197685</td>\n",
       "    </tr>\n",
       "    <tr>\n",
       "      <th>row3</th>\n",
       "      <td>0.862993</td>\n",
       "      <td>0.983401</td>\n",
       "      <td>0.163842</td>\n",
       "      <td>0.597334</td>\n",
       "      <td>0.008986</td>\n",
       "      <td>0.386571</td>\n",
       "    </tr>\n",
       "    <tr>\n",
       "      <th>row4</th>\n",
       "      <td>0.044160</td>\n",
       "      <td>0.956653</td>\n",
       "      <td>0.436147</td>\n",
       "      <td>0.948977</td>\n",
       "      <td>0.786306</td>\n",
       "      <td>0.866289</td>\n",
       "    </tr>\n",
       "    <tr>\n",
       "      <th>row5</th>\n",
       "      <td>0.173165</td>\n",
       "      <td>0.074949</td>\n",
       "      <td>0.600743</td>\n",
       "      <td>0.167972</td>\n",
       "      <td>0.733380</td>\n",
       "      <td>0.408444</td>\n",
       "    </tr>\n",
       "    <tr>\n",
       "      <th>row6</th>\n",
       "      <td>0.527909</td>\n",
       "      <td>0.937572</td>\n",
       "      <td>0.521696</td>\n",
       "      <td>0.108193</td>\n",
       "      <td>0.158223</td>\n",
       "      <td>0.545203</td>\n",
       "    </tr>\n",
       "  </tbody>\n",
       "</table>\n",
       "</div>"
      ],
      "text/plain": [
       "          Col1      Col2      Col3      Col4      Col5      Col6\n",
       "row1  0.967030  0.547232  0.972684  0.714816  0.697729  0.216089\n",
       "row2  0.976274  0.006230  0.252982  0.434792  0.779383  0.197685\n",
       "row3  0.862993  0.983401  0.163842  0.597334  0.008986  0.386571\n",
       "row4  0.044160  0.956653  0.436147  0.948977  0.786306  0.866289\n",
       "row5  0.173165  0.074949  0.600743  0.167972  0.733380  0.408444\n",
       "row6  0.527909  0.937572  0.521696  0.108193  0.158223  0.545203"
      ]
     },
     "execution_count": 7,
     "metadata": {},
     "output_type": "execute_result"
    }
   ],
   "source": [
    "# It is used over DataFrame object hence we first create a DataFrame object using DataFrame() constructor\n",
    "# First we generate random numbers \n",
    "# Then we create data frame with indexes for rows and columns; reshape is to specify matrix size\n",
    "np.random.seed(4)\n",
    "DataFrame_Object = DataFrame(np.random.rand(36).reshape(6,6), index = ['row1','row2','row3','row4','row5','row6'], columns = ['Col1','Col2','Col3','Col4','Col5','Col6'])\n",
    "DataFrame_Object"
   ]
  },
  {
   "cell_type": "code",
   "execution_count": 10,
   "id": "66038257",
   "metadata": {},
   "outputs": [
    {
     "data": {
      "text/html": [
       "<div>\n",
       "<style scoped>\n",
       "    .dataframe tbody tr th:only-of-type {\n",
       "        vertical-align: middle;\n",
       "    }\n",
       "\n",
       "    .dataframe tbody tr th {\n",
       "        vertical-align: top;\n",
       "    }\n",
       "\n",
       "    .dataframe thead th {\n",
       "        text-align: right;\n",
       "    }\n",
       "</style>\n",
       "<table border=\"1\" class=\"dataframe\">\n",
       "  <thead>\n",
       "    <tr style=\"text-align: right;\">\n",
       "      <th></th>\n",
       "      <th>Col2</th>\n",
       "      <th>Col3</th>\n",
       "    </tr>\n",
       "  </thead>\n",
       "  <tbody>\n",
       "    <tr>\n",
       "      <th>row1</th>\n",
       "      <td>0.547232</td>\n",
       "      <td>0.972684</td>\n",
       "    </tr>\n",
       "    <tr>\n",
       "      <th>row5</th>\n",
       "      <td>0.074949</td>\n",
       "      <td>0.600743</td>\n",
       "    </tr>\n",
       "  </tbody>\n",
       "</table>\n",
       "</div>"
      ],
      "text/plain": [
       "          Col2      Col3\n",
       "row1  0.547232  0.972684\n",
       "row5  0.074949  0.600743"
      ]
     },
     "execution_count": 10,
     "metadata": {},
     "output_type": "execute_result"
    }
   ],
   "source": [
    "DataFrame_Object.loc[['row1', 'row5'],['Col2','Col3']]"
   ]
  },
  {
   "cell_type": "markdown",
   "id": "f702b2f2",
   "metadata": {},
   "source": [
    "#Data Slicing"
   ]
  },
  {
   "cell_type": "code",
   "execution_count": 11,
   "id": "3050786d",
   "metadata": {},
   "outputs": [
    {
     "data": {
      "text/plain": [
       "row1    0\n",
       "row2    1\n",
       "row3    2\n",
       "dtype: int32"
      ]
     },
     "execution_count": 11,
     "metadata": {},
     "output_type": "execute_result"
    }
   ],
   "source": [
    "# Slicing is we take out desired chunks from the data set\n",
    "# we can pass 2 indexes to retrieve the data in between the 2 values specified in the indexes\n",
    "Series_Object['row1':'row3'] # Colon is used and not comma."
   ]
  },
  {
   "cell_type": "code",
   "execution_count": 12,
   "id": "4ef74f9d",
   "metadata": {},
   "outputs": [
    {
     "data": {
      "text/html": [
       "<div>\n",
       "<style scoped>\n",
       "    .dataframe tbody tr th:only-of-type {\n",
       "        vertical-align: middle;\n",
       "    }\n",
       "\n",
       "    .dataframe tbody tr th {\n",
       "        vertical-align: top;\n",
       "    }\n",
       "\n",
       "    .dataframe thead th {\n",
       "        text-align: right;\n",
       "    }\n",
       "</style>\n",
       "<table border=\"1\" class=\"dataframe\">\n",
       "  <thead>\n",
       "    <tr style=\"text-align: right;\">\n",
       "      <th></th>\n",
       "      <th>Col1</th>\n",
       "      <th>Col2</th>\n",
       "      <th>Col3</th>\n",
       "      <th>Col4</th>\n",
       "      <th>Col5</th>\n",
       "      <th>Col6</th>\n",
       "    </tr>\n",
       "  </thead>\n",
       "  <tbody>\n",
       "    <tr>\n",
       "      <th>row1</th>\n",
       "      <td>False</td>\n",
       "      <td>False</td>\n",
       "      <td>False</td>\n",
       "      <td>False</td>\n",
       "      <td>False</td>\n",
       "      <td>True</td>\n",
       "    </tr>\n",
       "    <tr>\n",
       "      <th>row2</th>\n",
       "      <td>False</td>\n",
       "      <td>True</td>\n",
       "      <td>True</td>\n",
       "      <td>False</td>\n",
       "      <td>False</td>\n",
       "      <td>True</td>\n",
       "    </tr>\n",
       "    <tr>\n",
       "      <th>row3</th>\n",
       "      <td>False</td>\n",
       "      <td>False</td>\n",
       "      <td>True</td>\n",
       "      <td>False</td>\n",
       "      <td>True</td>\n",
       "      <td>False</td>\n",
       "    </tr>\n",
       "    <tr>\n",
       "      <th>row4</th>\n",
       "      <td>True</td>\n",
       "      <td>False</td>\n",
       "      <td>False</td>\n",
       "      <td>False</td>\n",
       "      <td>False</td>\n",
       "      <td>False</td>\n",
       "    </tr>\n",
       "    <tr>\n",
       "      <th>row5</th>\n",
       "      <td>True</td>\n",
       "      <td>True</td>\n",
       "      <td>False</td>\n",
       "      <td>True</td>\n",
       "      <td>False</td>\n",
       "      <td>False</td>\n",
       "    </tr>\n",
       "    <tr>\n",
       "      <th>row6</th>\n",
       "      <td>False</td>\n",
       "      <td>False</td>\n",
       "      <td>False</td>\n",
       "      <td>True</td>\n",
       "      <td>True</td>\n",
       "      <td>False</td>\n",
       "    </tr>\n",
       "  </tbody>\n",
       "</table>\n",
       "</div>"
      ],
      "text/plain": [
       "       Col1   Col2   Col3   Col4   Col5   Col6\n",
       "row1  False  False  False  False  False   True\n",
       "row2  False   True   True  False  False   True\n",
       "row3  False  False   True  False   True  False\n",
       "row4   True  False  False  False  False  False\n",
       "row5   True   True  False   True  False  False\n",
       "row6  False  False  False   True   True  False"
      ]
     },
     "execution_count": 12,
     "metadata": {},
     "output_type": "execute_result"
    }
   ],
   "source": [
    "# we can use comparison operators and scalar quantities to filter\n",
    "DataFrame_Object < 0.3"
   ]
  },
  {
   "cell_type": "code",
   "execution_count": 13,
   "id": "4120aefb",
   "metadata": {},
   "outputs": [
    {
     "data": {
      "text/plain": [
       "row3    2\n",
       "row4    3\n",
       "dtype: int32"
      ]
     },
     "execution_count": 13,
     "metadata": {},
     "output_type": "execute_result"
    }
   ],
   "source": [
    "# To find all rows that have values greater than a number\n",
    "Series_Object[Series_Object >1]"
   ]
  },
  {
   "cell_type": "code",
   "execution_count": 14,
   "id": "a4cd1063",
   "metadata": {},
   "outputs": [
    {
     "data": {
      "text/plain": [
       "row1    100\n",
       "row2      1\n",
       "row3      2\n",
       "row4      3\n",
       "dtype: int32"
      ]
     },
     "execution_count": 14,
     "metadata": {},
     "output_type": "execute_result"
    }
   ],
   "source": [
    "# Setting values with Scalars\n",
    "Series_Object['row1']=100\n",
    "Series_Object"
   ]
  },
  {
   "cell_type": "code",
   "execution_count": null,
   "id": "32f3fe2a",
   "metadata": {},
   "outputs": [],
   "source": []
  }
 ],
 "metadata": {
  "kernelspec": {
   "display_name": "Python 3 (ipykernel)",
   "language": "python",
   "name": "python3"
  },
  "language_info": {
   "codemirror_mode": {
    "name": "ipython",
    "version": 3
   },
   "file_extension": ".py",
   "mimetype": "text/x-python",
   "name": "python",
   "nbconvert_exporter": "python",
   "pygments_lexer": "ipython3",
   "version": "3.8.8"
  }
 },
 "nbformat": 4,
 "nbformat_minor": 5
}
